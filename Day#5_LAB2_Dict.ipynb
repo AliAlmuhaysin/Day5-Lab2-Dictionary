{
 "cells": [
  {
   "attachments": {},
   "cell_type": "markdown",
   "metadata": {},
   "source": [
    "# Data Science Bootcamp | Day 5 : Lab2 - Dictionary\n",
    "### Ali Almuhaysin"
   ]
  },
  {
   "attachments": {},
   "cell_type": "markdown",
   "metadata": {},
   "source": [
    "> Build a phone book program that receives the phone number, and returns the name of the owner. You can follow the table below:\n",
    ">\n",
    "> | Name\t  |   Number\n",
    "> |---------|----------|\n",
    "> |Amal\t    |1111111111|\n",
    "> |Mohammed\t|2222222222|\n",
    "> |Khadijah\t|3333333333|\n",
    "> |Abdullah\t|4444444444|\n",
    "> |Rawan\t  |5555555555|\n",
    "> |Faisal\t  |6666666666|\n",
    "> |Layla\t  |7777777777|\n",
    ">\n",
    "> - If the number exists, print the owner. Otherwise, print \"Sorry, the number is not found\".\n",
    "> - If the number is less or more than 10 numbers, print \"This is invalid number\".\n",
    "> - If the number contains letters or symbols, print \"This is invalid number\"."
   ]
  },
  {
   "cell_type": "code",
   "execution_count": 30,
   "metadata": {},
   "outputs": [],
   "source": [
    "# initilize Dictionary\n",
    "Phone_Dict = {\n",
    "    'Owner_1' : {\n",
    "        'Name' : 'Amal',\n",
    "        'Number' : '1111111111'\n",
    "    } ,\n",
    "    'Owner_2' : {\n",
    "        'Name' : 'Mohammed',\n",
    "        'Number' : '2222222222'\n",
    "    } ,\n",
    "    'Owner_3' : {\n",
    "        'Name' : 'Khadijah',\n",
    "        'Number' : '3333333333'\n",
    "    } ,\n",
    "    'Owner_4' : {\n",
    "        'Name' : 'Abdullah',\n",
    "        'Number' : '4444444444'\n",
    "    } ,\n",
    "    'Owner_5' : {\n",
    "        'Name' : 'Rawan',\n",
    "        'Number' : '5555555555'\n",
    "    } ,\n",
    "    'Owner_6' : {\n",
    "        'Name' : 'Faisal',\n",
    "        'Number' : '6666666666'\n",
    "    } ,\n",
    "    'Owner_7' : {\n",
    "        'Name' : 'Layla',\n",
    "        'Number' : '7777777777'\n",
    "    }\n",
    "}"
   ]
  },
  {
   "cell_type": "code",
   "execution_count": 32,
   "metadata": {},
   "outputs": [
    {
     "name": "stdout",
     "output_type": "stream",
     "text": [
      "Owner:  Faisal\n"
     ]
    }
   ],
   "source": [
    "while True:\n",
    "    Input_Number = input(\"Enter A Phone Number:\")\n",
    "    if len(Input_Number) == 10 and Input_Number.isnumeric():\n",
    "        break\n",
    "    else:\n",
    "        print(\"This is invalid number\")\n",
    "\n",
    "for i,(Owner,Details) in enumerate(Phone_Dict.items()):\n",
    "    if Input_Number in Details['Number']:\n",
    "        print(\"Owner: \", Details['Name'])\n",
    "        break\n",
    "    elif i == len(Phone_Dict)-1:\n",
    "        print(\"Sorry, the number is not found\")\n"
   ]
  }
 ],
 "metadata": {
  "kernelspec": {
   "display_name": "base",
   "language": "python",
   "name": "python3"
  },
  "language_info": {
   "codemirror_mode": {
    "name": "ipython",
    "version": 3
   },
   "file_extension": ".py",
   "mimetype": "text/x-python",
   "name": "python",
   "nbconvert_exporter": "python",
   "pygments_lexer": "ipython3",
   "version": "3.9.7"
  },
  "orig_nbformat": 4,
  "vscode": {
   "interpreter": {
    "hash": "d7110026d9d1e7a4f913f473c04b036e681323f3b6777e21eab70ab5bad6c5ad"
   }
  }
 },
 "nbformat": 4,
 "nbformat_minor": 2
}
